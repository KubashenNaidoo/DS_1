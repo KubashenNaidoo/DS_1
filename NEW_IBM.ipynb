{
 "cells": [
  {
   "cell_type": "code",
   "execution_count": null,
   "id": "b29a36f9-0483-4b67-a26e-d7f9686329fe",
   "metadata": {},
   "outputs": [],
   "source": [
    "import pandas as pd\n",
    "import requests\n",
    "from bs4 import BeautifulSoup\n",
    "import yfinance as yf\n",
    "import plotly.graph_objects as go\n",
    "from plotly.subplots import make_subplots"
   ]
  },
  {
   "cell_type": "code",
   "execution_count": null,
   "id": "662300d4-5eb2-402f-88c9-a0d48b4b1c0b",
   "metadata": {},
   "outputs": [],
   "source": [
    "def make_graph(stock_data, revenue_data, stock):\n",
    "    fig = make_subplots(rows=2, cols=1, shared_xaxes=True, subplot_titles=(\"Historical Share Price\", \"Historical Revenue\"), vertical_spacing = .3)\n",
    "    stock_data_specific = stock_data[stock_data.Date <= '2021--06-14']\n",
    "    revenue_data_specific = revenue_data[revenue_data.Date <= '2021-04-30']\n",
    "    fig.add_trace(go.Scatter(x=pd.to_datetime(stock_data_specific.Date, infer_datetime_format=True), y=stock_data_specific.Close.astype(\"float\"), name=\"Share Price\"), row=1, col=1)\n",
    "    fig.add_trace(go.Scatter(x=pd.to_datetime(revenue_data_specific.Date, infer_datetime_format=True), y=revenue_data_specific.Revenue.astype(\"float\"), name=\"Revenue\"), row=2, col=1)\n",
    "    fig.update_xaxes(title_text=\"Date\", row=1, col=1)\n",
    "    fig.update_xaxes(title_text=\"Date\", row=2, col=1)\n",
    "    fig.update_yaxes(title_text=\"Price ($US)\", row=1, col=1)\n",
    "    fig.update_yaxes(title_text=\"Revenue ($US Millions)\", row=2, col=1)\n",
    "    fig.update_layout(showlegend=False,\n",
    "    height=900,\n",
    "    title=stock,\n",
    "    xaxis_rangeslider_visible=True)\n",
    "    fig.show()"
   ]
  },
  {
   "cell_type": "code",
   "execution_count": null,
   "id": "8e1744de-506e-44d4-87b9-a6f8d84b3ba9",
   "metadata": {},
   "outputs": [],
   "source": [
    "data = yf.Ticker('TSLA')\n",
    "tsla_data = data.history(period = 'max')"
   ]
  },
  {
   "cell_type": "code",
   "execution_count": null,
   "id": "61262942-ca04-4515-8209-2a7536d394aa",
   "metadata": {},
   "outputs": [],
   "source": [
    "tsla_data.reset_index(inplace=True)\n",
    "tsla_data.head()"
   ]
  },
  {
   "cell_type": "code",
   "execution_count": null,
   "id": "7e8af61f-ba52-41d8-b8c4-a2e2a05ac942",
   "metadata": {},
   "outputs": [],
   "source": [
    "tsla_url = 'https://cf-courses-data.s3.us.cloud-object-storage.appdomain.cloud/IBMDeveloperSkillsNetwork-PY0220EN-SkillsNetwork/labs/project/revenue.htm'\n",
    "get_link = requests.get(tsla_url)\n",
    "tsla_data1 = BeautifulSoup(get_link.content, 'lxml')"
   ]
  },
  {
   "cell_type": "code",
   "execution_count": null,
   "id": "2fb742dc-037e-42a3-8cd7-df759f363bbc",
   "metadata": {},
   "outputs": [],
   "source": []
  },
  {
   "cell_type": "code",
   "execution_count": null,
   "id": "aad222a2-d2b1-4bb0-96c7-2fa0aec74b01",
   "metadata": {},
   "outputs": [],
   "source": [
    "Date = []\n",
    "Revenue = []\n",
    "tsla_table = tsla_data1.find('tbody').find_all('tr')\n",
    "for i in tsla_table:\n",
    "    col = i.find_all('td')\n",
    "    date = col[0].string\n",
    "    Date.append(date)\n",
    "    revenue = col[1].string\n",
    "    Revenue.append(revenue)"
   ]
  },
  {
   "cell_type": "code",
   "execution_count": null,
   "id": "b3ecd213-4f38-4e12-9692-bddc11d1ccdc",
   "metadata": {},
   "outputs": [],
   "source": [
    "tesla_revenue = pd.DataFrame({'Date': Date, 'Revenue':Revenue})\n",
    "tesla_revenue['Revenue'] = tesla_revenue['Revenue'].str.replace(r'[$,]', '', regex=True)\n",
    "tesla_revenue.tail()"
   ]
  },
  {
   "cell_type": "code",
   "execution_count": null,
   "id": "fc42a0a1-3cab-4926-9559-b6e721dbac22",
   "metadata": {},
   "outputs": [],
   "source": []
  },
  {
   "cell_type": "code",
   "execution_count": null,
   "id": "711b42c3-2679-4e4b-9faa-7c28e0cf51ff",
   "metadata": {},
   "outputs": [],
   "source": [
    "tesla_revenue.dropna(inplace=True)\n",
    "\n",
    "tesla_revenue = tesla_revenue[tesla_revenue['Revenue'] != \"\"]"
   ]
  },
  {
   "cell_type": "code",
   "execution_count": null,
   "id": "28d26d87-d113-49c2-b3e3-4657196bed95",
   "metadata": {},
   "outputs": [],
   "source": [
    "tesla_revenue"
   ]
  },
  {
   "cell_type": "code",
   "execution_count": null,
   "id": "72564f23-c0f9-40f6-8d80-dab125e2a9ed",
   "metadata": {},
   "outputs": [],
   "source": [
    "data = yf.Ticker('GME')\n",
    "gme_data = data.history(period = 'max')"
   ]
  },
  {
   "cell_type": "code",
   "execution_count": null,
   "id": "70122cf9-b749-41b6-b86a-6e157136ede7",
   "metadata": {},
   "outputs": [],
   "source": [
    "gme_data.reset_index(inplace=True)\n",
    "gme_data.head()"
   ]
  },
  {
   "cell_type": "code",
   "execution_count": null,
   "id": "6b88de26-d0bb-4739-bca5-f4e78c7b7453",
   "metadata": {},
   "outputs": [],
   "source": [
    "gme_url = 'https://cf-courses-data.s3.us.cloud-object-storage.appdomain.cloud/IBMDeveloperSkillsNetwork-PY0220EN-SkillsNetwork/labs/project/stock.html'"
   ]
  },
  {
   "cell_type": "code",
   "execution_count": null,
   "id": "9f4ee648-869c-4785-a6a2-638b8144b15e",
   "metadata": {},
   "outputs": [],
   "source": [
    "req = requests.get(gme_url)\n",
    "gme_data1 = BeautifulSoup(req.content, 'lxml')"
   ]
  },
  {
   "cell_type": "code",
   "execution_count": null,
   "id": "85b48278-0d47-4717-b3a0-08f1289a5fda",
   "metadata": {},
   "outputs": [],
   "source": [
    "gme_table = gme_data1.find('tbody').find_all('tr')\n"
   ]
  },
  {
   "cell_type": "code",
   "execution_count": null,
   "id": "539881fa-1253-4bf6-8fb3-6f68e374f675",
   "metadata": {},
   "outputs": [],
   "source": [
    "Date = []\n",
    "Revenue = []"
   ]
  },
  {
   "cell_type": "code",
   "execution_count": null,
   "id": "75ccd421-1660-43c3-aded-de9ac242a1bd",
   "metadata": {},
   "outputs": [],
   "source": [
    "for i in gme_table:\n",
    "    col = i.find_all('td')\n",
    "    date = col[0].string\n",
    "    Date.append(date)\n",
    "    revenue = col[1].string\n",
    "    Revenue.append(revenue)"
   ]
  },
  {
   "cell_type": "code",
   "execution_count": null,
   "id": "fa72ed90-14ba-4248-b95e-69235813189b",
   "metadata": {},
   "outputs": [],
   "source": [
    "gme_revenue = pd.DataFrame({'Date':Date,'Revenue':Revenue})\n",
    "gme_revenue['Revenue'] = gme_revenue['Revenue'].str.replace(r'[$,]', '', regex=True)\n",
    "gme_revenue.tail()"
   ]
  },
  {
   "cell_type": "code",
   "execution_count": null,
   "id": "f0b8c326-f053-4f58-82c6-533a0c88ccc0",
   "metadata": {},
   "outputs": [],
   "source": [
    "make_graph(gme_data, gme_revenue, 'GME')"
   ]
  },
  {
   "cell_type": "code",
   "execution_count": null,
   "id": "4ebef6ca-5ede-4973-812d-28d067696f1f",
   "metadata": {},
   "outputs": [],
   "source": [
    "make_graph(tsla_data, tesla_revenue, 'TESLA')"
   ]
  }
 ],
 "metadata": {
  "kernelspec": {
   "display_name": "Python 3 (ipykernel)",
   "language": "python",
   "name": "python3"
  },
  "language_info": {
   "codemirror_mode": {
    "name": "ipython",
    "version": 3
   },
   "file_extension": ".py",
   "mimetype": "text/x-python",
   "name": "python",
   "nbconvert_exporter": "python",
   "pygments_lexer": "ipython3",
   "version": "3.9.4"
  }
 },
 "nbformat": 4,
 "nbformat_minor": 5
}
